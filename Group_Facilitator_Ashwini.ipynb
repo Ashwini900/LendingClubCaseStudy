{
 "cells": [
  {
   "cell_type": "markdown",
   "id": "f97a68db",
   "metadata": {},
   "source": [
    "# Lending Club Case Study"
   ]
  },
  {
   "cell_type": "code",
   "execution_count": 160,
   "id": "ece6c1a8",
   "metadata": {},
   "outputs": [],
   "source": [
    "# importing all the required libraries\n",
    "\n",
    "import numpy as np    \n",
    "import pandas as pd   \n",
    "import datetime as dt   \n",
    "\n",
    "#importing warnings library to ignore all warnings\n",
    "import warnings\n",
    "warnings.filterwarnings(\"ignore\")\n",
    "\n",
    "#importing visualization libraries\n",
    "import matplotlib.pyplot as plt #visualization\n",
    "%matplotlib inline\n",
    "\n",
    "import seaborn as sns  #visualization\n",
    "      #visualization"
   ]
  },
  {
   "cell_type": "code",
   "execution_count": null,
   "id": "1ed2d954",
   "metadata": {},
   "outputs": [],
   "source": [
    "\n",
    "import plotly.offline as py                 #visualization\n",
    "py.init_notebook_mode(connected=True)       #visualization\n",
    "import plotly.graph_objs as go              #visualization\n",
    "import plotly.tools as tls                  #visualization\n",
    "import plotly.figure_factory as ff    "
   ]
  },
  {
   "cell_type": "code",
   "execution_count": 161,
   "id": "c71687ef",
   "metadata": {},
   "outputs": [
    {
     "data": {
      "text/html": [
       "<div>\n",
       "<style scoped>\n",
       "    .dataframe tbody tr th:only-of-type {\n",
       "        vertical-align: middle;\n",
       "    }\n",
       "\n",
       "    .dataframe tbody tr th {\n",
       "        vertical-align: top;\n",
       "    }\n",
       "\n",
       "    .dataframe thead th {\n",
       "        text-align: right;\n",
       "    }\n",
       "</style>\n",
       "<table border=\"1\" class=\"dataframe\">\n",
       "  <thead>\n",
       "    <tr style=\"text-align: right;\">\n",
       "      <th></th>\n",
       "      <th>id</th>\n",
       "      <th>member_id</th>\n",
       "      <th>loan_amnt</th>\n",
       "      <th>funded_amnt</th>\n",
       "      <th>funded_amnt_inv</th>\n",
       "      <th>term</th>\n",
       "      <th>int_rate</th>\n",
       "      <th>installment</th>\n",
       "      <th>grade</th>\n",
       "      <th>sub_grade</th>\n",
       "      <th>emp_title</th>\n",
       "      <th>emp_length</th>\n",
       "      <th>home_ownership</th>\n",
       "      <th>annual_inc</th>\n",
       "      <th>verification_status</th>\n",
       "      <th>issue_d</th>\n",
       "      <th>loan_status</th>\n",
       "      <th>pymnt_plan</th>\n",
       "      <th>url</th>\n",
       "      <th>desc</th>\n",
       "      <th>purpose</th>\n",
       "      <th>title</th>\n",
       "      <th>zip_code</th>\n",
       "      <th>addr_state</th>\n",
       "      <th>dti</th>\n",
       "      <th>delinq_2yrs</th>\n",
       "      <th>earliest_cr_line</th>\n",
       "      <th>inq_last_6mths</th>\n",
       "      <th>mths_since_last_delinq</th>\n",
       "      <th>mths_since_last_record</th>\n",
       "      <th>open_acc</th>\n",
       "      <th>pub_rec</th>\n",
       "      <th>revol_bal</th>\n",
       "      <th>revol_util</th>\n",
       "      <th>total_acc</th>\n",
       "      <th>initial_list_status</th>\n",
       "      <th>out_prncp</th>\n",
       "      <th>out_prncp_inv</th>\n",
       "      <th>total_pymnt</th>\n",
       "      <th>total_pymnt_inv</th>\n",
       "      <th>total_rec_prncp</th>\n",
       "      <th>total_rec_int</th>\n",
       "      <th>total_rec_late_fee</th>\n",
       "      <th>recoveries</th>\n",
       "      <th>collection_recovery_fee</th>\n",
       "      <th>last_pymnt_d</th>\n",
       "      <th>last_pymnt_amnt</th>\n",
       "      <th>next_pymnt_d</th>\n",
       "      <th>last_credit_pull_d</th>\n",
       "      <th>collections_12_mths_ex_med</th>\n",
       "      <th>mths_since_last_major_derog</th>\n",
       "      <th>policy_code</th>\n",
       "      <th>application_type</th>\n",
       "      <th>annual_inc_joint</th>\n",
       "      <th>dti_joint</th>\n",
       "      <th>verification_status_joint</th>\n",
       "      <th>acc_now_delinq</th>\n",
       "      <th>tot_coll_amt</th>\n",
       "      <th>tot_cur_bal</th>\n",
       "      <th>open_acc_6m</th>\n",
       "      <th>open_il_6m</th>\n",
       "      <th>open_il_12m</th>\n",
       "      <th>open_il_24m</th>\n",
       "      <th>mths_since_rcnt_il</th>\n",
       "      <th>total_bal_il</th>\n",
       "      <th>il_util</th>\n",
       "      <th>open_rv_12m</th>\n",
       "      <th>open_rv_24m</th>\n",
       "      <th>max_bal_bc</th>\n",
       "      <th>all_util</th>\n",
       "      <th>total_rev_hi_lim</th>\n",
       "      <th>inq_fi</th>\n",
       "      <th>total_cu_tl</th>\n",
       "      <th>inq_last_12m</th>\n",
       "      <th>acc_open_past_24mths</th>\n",
       "      <th>avg_cur_bal</th>\n",
       "      <th>bc_open_to_buy</th>\n",
       "      <th>bc_util</th>\n",
       "      <th>chargeoff_within_12_mths</th>\n",
       "      <th>delinq_amnt</th>\n",
       "      <th>mo_sin_old_il_acct</th>\n",
       "      <th>mo_sin_old_rev_tl_op</th>\n",
       "      <th>mo_sin_rcnt_rev_tl_op</th>\n",
       "      <th>mo_sin_rcnt_tl</th>\n",
       "      <th>mort_acc</th>\n",
       "      <th>mths_since_recent_bc</th>\n",
       "      <th>mths_since_recent_bc_dlq</th>\n",
       "      <th>mths_since_recent_inq</th>\n",
       "      <th>mths_since_recent_revol_delinq</th>\n",
       "      <th>num_accts_ever_120_pd</th>\n",
       "      <th>num_actv_bc_tl</th>\n",
       "      <th>num_actv_rev_tl</th>\n",
       "      <th>num_bc_sats</th>\n",
       "      <th>num_bc_tl</th>\n",
       "      <th>num_il_tl</th>\n",
       "      <th>num_op_rev_tl</th>\n",
       "      <th>num_rev_accts</th>\n",
       "      <th>num_rev_tl_bal_gt_0</th>\n",
       "      <th>num_sats</th>\n",
       "      <th>num_tl_120dpd_2m</th>\n",
       "      <th>num_tl_30dpd</th>\n",
       "      <th>num_tl_90g_dpd_24m</th>\n",
       "      <th>num_tl_op_past_12m</th>\n",
       "      <th>pct_tl_nvr_dlq</th>\n",
       "      <th>percent_bc_gt_75</th>\n",
       "      <th>pub_rec_bankruptcies</th>\n",
       "      <th>tax_liens</th>\n",
       "      <th>tot_hi_cred_lim</th>\n",
       "      <th>total_bal_ex_mort</th>\n",
       "      <th>total_bc_limit</th>\n",
       "      <th>total_il_high_credit_limit</th>\n",
       "    </tr>\n",
       "  </thead>\n",
       "  <tbody>\n",
       "    <tr>\n",
       "      <th>0</th>\n",
       "      <td>1077501</td>\n",
       "      <td>1296599</td>\n",
       "      <td>5000</td>\n",
       "      <td>5000</td>\n",
       "      <td>4975.0</td>\n",
       "      <td>36 months</td>\n",
       "      <td>10.65%</td>\n",
       "      <td>162.87</td>\n",
       "      <td>B</td>\n",
       "      <td>B2</td>\n",
       "      <td>NaN</td>\n",
       "      <td>10+ years</td>\n",
       "      <td>RENT</td>\n",
       "      <td>24000.0</td>\n",
       "      <td>Verified</td>\n",
       "      <td>Dec-11</td>\n",
       "      <td>Fully Paid</td>\n",
       "      <td>n</td>\n",
       "      <td>https://lendingclub.com/browse/loanDetail.acti...</td>\n",
       "      <td>Borrower added on 12/22/11 &gt; I need to upgra...</td>\n",
       "      <td>credit_card</td>\n",
       "      <td>Computer</td>\n",
       "      <td>860xx</td>\n",
       "      <td>AZ</td>\n",
       "      <td>27.65</td>\n",
       "      <td>0</td>\n",
       "      <td>Jan-85</td>\n",
       "      <td>1</td>\n",
       "      <td>NaN</td>\n",
       "      <td>NaN</td>\n",
       "      <td>3</td>\n",
       "      <td>0</td>\n",
       "      <td>13648</td>\n",
       "      <td>83.70%</td>\n",
       "      <td>9</td>\n",
       "      <td>f</td>\n",
       "      <td>0.00</td>\n",
       "      <td>0.00</td>\n",
       "      <td>5863.155187</td>\n",
       "      <td>5833.84</td>\n",
       "      <td>5000.00</td>\n",
       "      <td>863.16</td>\n",
       "      <td>0.00</td>\n",
       "      <td>0.00</td>\n",
       "      <td>0.00</td>\n",
       "      <td>Jan-15</td>\n",
       "      <td>171.62</td>\n",
       "      <td>NaN</td>\n",
       "      <td>May-16</td>\n",
       "      <td>0.0</td>\n",
       "      <td>NaN</td>\n",
       "      <td>1</td>\n",
       "      <td>INDIVIDUAL</td>\n",
       "      <td>NaN</td>\n",
       "      <td>NaN</td>\n",
       "      <td>NaN</td>\n",
       "      <td>0</td>\n",
       "      <td>NaN</td>\n",
       "      <td>NaN</td>\n",
       "      <td>NaN</td>\n",
       "      <td>NaN</td>\n",
       "      <td>NaN</td>\n",
       "      <td>NaN</td>\n",
       "      <td>NaN</td>\n",
       "      <td>NaN</td>\n",
       "      <td>NaN</td>\n",
       "      <td>NaN</td>\n",
       "      <td>NaN</td>\n",
       "      <td>NaN</td>\n",
       "      <td>NaN</td>\n",
       "      <td>NaN</td>\n",
       "      <td>NaN</td>\n",
       "      <td>NaN</td>\n",
       "      <td>NaN</td>\n",
       "      <td>NaN</td>\n",
       "      <td>NaN</td>\n",
       "      <td>NaN</td>\n",
       "      <td>NaN</td>\n",
       "      <td>0.0</td>\n",
       "      <td>0</td>\n",
       "      <td>NaN</td>\n",
       "      <td>NaN</td>\n",
       "      <td>NaN</td>\n",
       "      <td>NaN</td>\n",
       "      <td>NaN</td>\n",
       "      <td>NaN</td>\n",
       "      <td>NaN</td>\n",
       "      <td>NaN</td>\n",
       "      <td>NaN</td>\n",
       "      <td>NaN</td>\n",
       "      <td>NaN</td>\n",
       "      <td>NaN</td>\n",
       "      <td>NaN</td>\n",
       "      <td>NaN</td>\n",
       "      <td>NaN</td>\n",
       "      <td>NaN</td>\n",
       "      <td>NaN</td>\n",
       "      <td>NaN</td>\n",
       "      <td>NaN</td>\n",
       "      <td>NaN</td>\n",
       "      <td>NaN</td>\n",
       "      <td>NaN</td>\n",
       "      <td>NaN</td>\n",
       "      <td>NaN</td>\n",
       "      <td>NaN</td>\n",
       "      <td>0.0</td>\n",
       "      <td>0.0</td>\n",
       "      <td>NaN</td>\n",
       "      <td>NaN</td>\n",
       "      <td>NaN</td>\n",
       "      <td>NaN</td>\n",
       "    </tr>\n",
       "    <tr>\n",
       "      <th>1</th>\n",
       "      <td>1077430</td>\n",
       "      <td>1314167</td>\n",
       "      <td>2500</td>\n",
       "      <td>2500</td>\n",
       "      <td>2500.0</td>\n",
       "      <td>60 months</td>\n",
       "      <td>15.27%</td>\n",
       "      <td>59.83</td>\n",
       "      <td>C</td>\n",
       "      <td>C4</td>\n",
       "      <td>Ryder</td>\n",
       "      <td>&lt; 1 year</td>\n",
       "      <td>RENT</td>\n",
       "      <td>30000.0</td>\n",
       "      <td>Source Verified</td>\n",
       "      <td>Dec-11</td>\n",
       "      <td>Charged Off</td>\n",
       "      <td>n</td>\n",
       "      <td>https://lendingclub.com/browse/loanDetail.acti...</td>\n",
       "      <td>Borrower added on 12/22/11 &gt; I plan to use t...</td>\n",
       "      <td>car</td>\n",
       "      <td>bike</td>\n",
       "      <td>309xx</td>\n",
       "      <td>GA</td>\n",
       "      <td>1.00</td>\n",
       "      <td>0</td>\n",
       "      <td>Apr-99</td>\n",
       "      <td>5</td>\n",
       "      <td>NaN</td>\n",
       "      <td>NaN</td>\n",
       "      <td>3</td>\n",
       "      <td>0</td>\n",
       "      <td>1687</td>\n",
       "      <td>9.40%</td>\n",
       "      <td>4</td>\n",
       "      <td>f</td>\n",
       "      <td>0.00</td>\n",
       "      <td>0.00</td>\n",
       "      <td>1008.710000</td>\n",
       "      <td>1008.71</td>\n",
       "      <td>456.46</td>\n",
       "      <td>435.17</td>\n",
       "      <td>0.00</td>\n",
       "      <td>117.08</td>\n",
       "      <td>1.11</td>\n",
       "      <td>Apr-13</td>\n",
       "      <td>119.66</td>\n",
       "      <td>NaN</td>\n",
       "      <td>Sep-13</td>\n",
       "      <td>0.0</td>\n",
       "      <td>NaN</td>\n",
       "      <td>1</td>\n",
       "      <td>INDIVIDUAL</td>\n",
       "      <td>NaN</td>\n",
       "      <td>NaN</td>\n",
       "      <td>NaN</td>\n",
       "      <td>0</td>\n",
       "      <td>NaN</td>\n",
       "      <td>NaN</td>\n",
       "      <td>NaN</td>\n",
       "      <td>NaN</td>\n",
       "      <td>NaN</td>\n",
       "      <td>NaN</td>\n",
       "      <td>NaN</td>\n",
       "      <td>NaN</td>\n",
       "      <td>NaN</td>\n",
       "      <td>NaN</td>\n",
       "      <td>NaN</td>\n",
       "      <td>NaN</td>\n",
       "      <td>NaN</td>\n",
       "      <td>NaN</td>\n",
       "      <td>NaN</td>\n",
       "      <td>NaN</td>\n",
       "      <td>NaN</td>\n",
       "      <td>NaN</td>\n",
       "      <td>NaN</td>\n",
       "      <td>NaN</td>\n",
       "      <td>NaN</td>\n",
       "      <td>0.0</td>\n",
       "      <td>0</td>\n",
       "      <td>NaN</td>\n",
       "      <td>NaN</td>\n",
       "      <td>NaN</td>\n",
       "      <td>NaN</td>\n",
       "      <td>NaN</td>\n",
       "      <td>NaN</td>\n",
       "      <td>NaN</td>\n",
       "      <td>NaN</td>\n",
       "      <td>NaN</td>\n",
       "      <td>NaN</td>\n",
       "      <td>NaN</td>\n",
       "      <td>NaN</td>\n",
       "      <td>NaN</td>\n",
       "      <td>NaN</td>\n",
       "      <td>NaN</td>\n",
       "      <td>NaN</td>\n",
       "      <td>NaN</td>\n",
       "      <td>NaN</td>\n",
       "      <td>NaN</td>\n",
       "      <td>NaN</td>\n",
       "      <td>NaN</td>\n",
       "      <td>NaN</td>\n",
       "      <td>NaN</td>\n",
       "      <td>NaN</td>\n",
       "      <td>NaN</td>\n",
       "      <td>0.0</td>\n",
       "      <td>0.0</td>\n",
       "      <td>NaN</td>\n",
       "      <td>NaN</td>\n",
       "      <td>NaN</td>\n",
       "      <td>NaN</td>\n",
       "    </tr>\n",
       "    <tr>\n",
       "      <th>2</th>\n",
       "      <td>1077175</td>\n",
       "      <td>1313524</td>\n",
       "      <td>2400</td>\n",
       "      <td>2400</td>\n",
       "      <td>2400.0</td>\n",
       "      <td>36 months</td>\n",
       "      <td>15.96%</td>\n",
       "      <td>84.33</td>\n",
       "      <td>C</td>\n",
       "      <td>C5</td>\n",
       "      <td>NaN</td>\n",
       "      <td>10+ years</td>\n",
       "      <td>RENT</td>\n",
       "      <td>12252.0</td>\n",
       "      <td>Not Verified</td>\n",
       "      <td>Dec-11</td>\n",
       "      <td>Fully Paid</td>\n",
       "      <td>n</td>\n",
       "      <td>https://lendingclub.com/browse/loanDetail.acti...</td>\n",
       "      <td>NaN</td>\n",
       "      <td>small_business</td>\n",
       "      <td>real estate business</td>\n",
       "      <td>606xx</td>\n",
       "      <td>IL</td>\n",
       "      <td>8.72</td>\n",
       "      <td>0</td>\n",
       "      <td>Nov-01</td>\n",
       "      <td>2</td>\n",
       "      <td>NaN</td>\n",
       "      <td>NaN</td>\n",
       "      <td>2</td>\n",
       "      <td>0</td>\n",
       "      <td>2956</td>\n",
       "      <td>98.50%</td>\n",
       "      <td>10</td>\n",
       "      <td>f</td>\n",
       "      <td>0.00</td>\n",
       "      <td>0.00</td>\n",
       "      <td>3005.666844</td>\n",
       "      <td>3005.67</td>\n",
       "      <td>2400.00</td>\n",
       "      <td>605.67</td>\n",
       "      <td>0.00</td>\n",
       "      <td>0.00</td>\n",
       "      <td>0.00</td>\n",
       "      <td>Jun-14</td>\n",
       "      <td>649.91</td>\n",
       "      <td>NaN</td>\n",
       "      <td>May-16</td>\n",
       "      <td>0.0</td>\n",
       "      <td>NaN</td>\n",
       "      <td>1</td>\n",
       "      <td>INDIVIDUAL</td>\n",
       "      <td>NaN</td>\n",
       "      <td>NaN</td>\n",
       "      <td>NaN</td>\n",
       "      <td>0</td>\n",
       "      <td>NaN</td>\n",
       "      <td>NaN</td>\n",
       "      <td>NaN</td>\n",
       "      <td>NaN</td>\n",
       "      <td>NaN</td>\n",
       "      <td>NaN</td>\n",
       "      <td>NaN</td>\n",
       "      <td>NaN</td>\n",
       "      <td>NaN</td>\n",
       "      <td>NaN</td>\n",
       "      <td>NaN</td>\n",
       "      <td>NaN</td>\n",
       "      <td>NaN</td>\n",
       "      <td>NaN</td>\n",
       "      <td>NaN</td>\n",
       "      <td>NaN</td>\n",
       "      <td>NaN</td>\n",
       "      <td>NaN</td>\n",
       "      <td>NaN</td>\n",
       "      <td>NaN</td>\n",
       "      <td>NaN</td>\n",
       "      <td>0.0</td>\n",
       "      <td>0</td>\n",
       "      <td>NaN</td>\n",
       "      <td>NaN</td>\n",
       "      <td>NaN</td>\n",
       "      <td>NaN</td>\n",
       "      <td>NaN</td>\n",
       "      <td>NaN</td>\n",
       "      <td>NaN</td>\n",
       "      <td>NaN</td>\n",
       "      <td>NaN</td>\n",
       "      <td>NaN</td>\n",
       "      <td>NaN</td>\n",
       "      <td>NaN</td>\n",
       "      <td>NaN</td>\n",
       "      <td>NaN</td>\n",
       "      <td>NaN</td>\n",
       "      <td>NaN</td>\n",
       "      <td>NaN</td>\n",
       "      <td>NaN</td>\n",
       "      <td>NaN</td>\n",
       "      <td>NaN</td>\n",
       "      <td>NaN</td>\n",
       "      <td>NaN</td>\n",
       "      <td>NaN</td>\n",
       "      <td>NaN</td>\n",
       "      <td>NaN</td>\n",
       "      <td>0.0</td>\n",
       "      <td>0.0</td>\n",
       "      <td>NaN</td>\n",
       "      <td>NaN</td>\n",
       "      <td>NaN</td>\n",
       "      <td>NaN</td>\n",
       "    </tr>\n",
       "    <tr>\n",
       "      <th>3</th>\n",
       "      <td>1076863</td>\n",
       "      <td>1277178</td>\n",
       "      <td>10000</td>\n",
       "      <td>10000</td>\n",
       "      <td>10000.0</td>\n",
       "      <td>36 months</td>\n",
       "      <td>13.49%</td>\n",
       "      <td>339.31</td>\n",
       "      <td>C</td>\n",
       "      <td>C1</td>\n",
       "      <td>AIR RESOURCES BOARD</td>\n",
       "      <td>10+ years</td>\n",
       "      <td>RENT</td>\n",
       "      <td>49200.0</td>\n",
       "      <td>Source Verified</td>\n",
       "      <td>Dec-11</td>\n",
       "      <td>Fully Paid</td>\n",
       "      <td>n</td>\n",
       "      <td>https://lendingclub.com/browse/loanDetail.acti...</td>\n",
       "      <td>Borrower added on 12/21/11 &gt; to pay for prop...</td>\n",
       "      <td>other</td>\n",
       "      <td>personel</td>\n",
       "      <td>917xx</td>\n",
       "      <td>CA</td>\n",
       "      <td>20.00</td>\n",
       "      <td>0</td>\n",
       "      <td>Feb-96</td>\n",
       "      <td>1</td>\n",
       "      <td>35.0</td>\n",
       "      <td>NaN</td>\n",
       "      <td>10</td>\n",
       "      <td>0</td>\n",
       "      <td>5598</td>\n",
       "      <td>21%</td>\n",
       "      <td>37</td>\n",
       "      <td>f</td>\n",
       "      <td>0.00</td>\n",
       "      <td>0.00</td>\n",
       "      <td>12231.890000</td>\n",
       "      <td>12231.89</td>\n",
       "      <td>10000.00</td>\n",
       "      <td>2214.92</td>\n",
       "      <td>16.97</td>\n",
       "      <td>0.00</td>\n",
       "      <td>0.00</td>\n",
       "      <td>Jan-15</td>\n",
       "      <td>357.48</td>\n",
       "      <td>NaN</td>\n",
       "      <td>Apr-16</td>\n",
       "      <td>0.0</td>\n",
       "      <td>NaN</td>\n",
       "      <td>1</td>\n",
       "      <td>INDIVIDUAL</td>\n",
       "      <td>NaN</td>\n",
       "      <td>NaN</td>\n",
       "      <td>NaN</td>\n",
       "      <td>0</td>\n",
       "      <td>NaN</td>\n",
       "      <td>NaN</td>\n",
       "      <td>NaN</td>\n",
       "      <td>NaN</td>\n",
       "      <td>NaN</td>\n",
       "      <td>NaN</td>\n",
       "      <td>NaN</td>\n",
       "      <td>NaN</td>\n",
       "      <td>NaN</td>\n",
       "      <td>NaN</td>\n",
       "      <td>NaN</td>\n",
       "      <td>NaN</td>\n",
       "      <td>NaN</td>\n",
       "      <td>NaN</td>\n",
       "      <td>NaN</td>\n",
       "      <td>NaN</td>\n",
       "      <td>NaN</td>\n",
       "      <td>NaN</td>\n",
       "      <td>NaN</td>\n",
       "      <td>NaN</td>\n",
       "      <td>NaN</td>\n",
       "      <td>0.0</td>\n",
       "      <td>0</td>\n",
       "      <td>NaN</td>\n",
       "      <td>NaN</td>\n",
       "      <td>NaN</td>\n",
       "      <td>NaN</td>\n",
       "      <td>NaN</td>\n",
       "      <td>NaN</td>\n",
       "      <td>NaN</td>\n",
       "      <td>NaN</td>\n",
       "      <td>NaN</td>\n",
       "      <td>NaN</td>\n",
       "      <td>NaN</td>\n",
       "      <td>NaN</td>\n",
       "      <td>NaN</td>\n",
       "      <td>NaN</td>\n",
       "      <td>NaN</td>\n",
       "      <td>NaN</td>\n",
       "      <td>NaN</td>\n",
       "      <td>NaN</td>\n",
       "      <td>NaN</td>\n",
       "      <td>NaN</td>\n",
       "      <td>NaN</td>\n",
       "      <td>NaN</td>\n",
       "      <td>NaN</td>\n",
       "      <td>NaN</td>\n",
       "      <td>NaN</td>\n",
       "      <td>0.0</td>\n",
       "      <td>0.0</td>\n",
       "      <td>NaN</td>\n",
       "      <td>NaN</td>\n",
       "      <td>NaN</td>\n",
       "      <td>NaN</td>\n",
       "    </tr>\n",
       "    <tr>\n",
       "      <th>4</th>\n",
       "      <td>1075358</td>\n",
       "      <td>1311748</td>\n",
       "      <td>3000</td>\n",
       "      <td>3000</td>\n",
       "      <td>3000.0</td>\n",
       "      <td>60 months</td>\n",
       "      <td>12.69%</td>\n",
       "      <td>67.79</td>\n",
       "      <td>B</td>\n",
       "      <td>B5</td>\n",
       "      <td>University Medical Group</td>\n",
       "      <td>1 year</td>\n",
       "      <td>RENT</td>\n",
       "      <td>80000.0</td>\n",
       "      <td>Source Verified</td>\n",
       "      <td>Dec-11</td>\n",
       "      <td>Current</td>\n",
       "      <td>n</td>\n",
       "      <td>https://lendingclub.com/browse/loanDetail.acti...</td>\n",
       "      <td>Borrower added on 12/21/11 &gt; I plan on combi...</td>\n",
       "      <td>other</td>\n",
       "      <td>Personal</td>\n",
       "      <td>972xx</td>\n",
       "      <td>OR</td>\n",
       "      <td>17.94</td>\n",
       "      <td>0</td>\n",
       "      <td>Jan-96</td>\n",
       "      <td>0</td>\n",
       "      <td>38.0</td>\n",
       "      <td>NaN</td>\n",
       "      <td>15</td>\n",
       "      <td>0</td>\n",
       "      <td>27783</td>\n",
       "      <td>53.90%</td>\n",
       "      <td>38</td>\n",
       "      <td>f</td>\n",
       "      <td>524.06</td>\n",
       "      <td>524.06</td>\n",
       "      <td>3513.330000</td>\n",
       "      <td>3513.33</td>\n",
       "      <td>2475.94</td>\n",
       "      <td>1037.39</td>\n",
       "      <td>0.00</td>\n",
       "      <td>0.00</td>\n",
       "      <td>0.00</td>\n",
       "      <td>May-16</td>\n",
       "      <td>67.79</td>\n",
       "      <td>Jun-16</td>\n",
       "      <td>May-16</td>\n",
       "      <td>0.0</td>\n",
       "      <td>NaN</td>\n",
       "      <td>1</td>\n",
       "      <td>INDIVIDUAL</td>\n",
       "      <td>NaN</td>\n",
       "      <td>NaN</td>\n",
       "      <td>NaN</td>\n",
       "      <td>0</td>\n",
       "      <td>NaN</td>\n",
       "      <td>NaN</td>\n",
       "      <td>NaN</td>\n",
       "      <td>NaN</td>\n",
       "      <td>NaN</td>\n",
       "      <td>NaN</td>\n",
       "      <td>NaN</td>\n",
       "      <td>NaN</td>\n",
       "      <td>NaN</td>\n",
       "      <td>NaN</td>\n",
       "      <td>NaN</td>\n",
       "      <td>NaN</td>\n",
       "      <td>NaN</td>\n",
       "      <td>NaN</td>\n",
       "      <td>NaN</td>\n",
       "      <td>NaN</td>\n",
       "      <td>NaN</td>\n",
       "      <td>NaN</td>\n",
       "      <td>NaN</td>\n",
       "      <td>NaN</td>\n",
       "      <td>NaN</td>\n",
       "      <td>0.0</td>\n",
       "      <td>0</td>\n",
       "      <td>NaN</td>\n",
       "      <td>NaN</td>\n",
       "      <td>NaN</td>\n",
       "      <td>NaN</td>\n",
       "      <td>NaN</td>\n",
       "      <td>NaN</td>\n",
       "      <td>NaN</td>\n",
       "      <td>NaN</td>\n",
       "      <td>NaN</td>\n",
       "      <td>NaN</td>\n",
       "      <td>NaN</td>\n",
       "      <td>NaN</td>\n",
       "      <td>NaN</td>\n",
       "      <td>NaN</td>\n",
       "      <td>NaN</td>\n",
       "      <td>NaN</td>\n",
       "      <td>NaN</td>\n",
       "      <td>NaN</td>\n",
       "      <td>NaN</td>\n",
       "      <td>NaN</td>\n",
       "      <td>NaN</td>\n",
       "      <td>NaN</td>\n",
       "      <td>NaN</td>\n",
       "      <td>NaN</td>\n",
       "      <td>NaN</td>\n",
       "      <td>0.0</td>\n",
       "      <td>0.0</td>\n",
       "      <td>NaN</td>\n",
       "      <td>NaN</td>\n",
       "      <td>NaN</td>\n",
       "      <td>NaN</td>\n",
       "    </tr>\n",
       "  </tbody>\n",
       "</table>\n",
       "</div>"
      ],
      "text/plain": [
       "        id  member_id  loan_amnt  funded_amnt  funded_amnt_inv        term  \\\n",
       "0  1077501    1296599       5000         5000           4975.0   36 months   \n",
       "1  1077430    1314167       2500         2500           2500.0   60 months   \n",
       "2  1077175    1313524       2400         2400           2400.0   36 months   \n",
       "3  1076863    1277178      10000        10000          10000.0   36 months   \n",
       "4  1075358    1311748       3000         3000           3000.0   60 months   \n",
       "\n",
       "  int_rate  installment grade sub_grade                 emp_title emp_length  \\\n",
       "0   10.65%       162.87     B        B2                       NaN  10+ years   \n",
       "1   15.27%        59.83     C        C4                     Ryder   < 1 year   \n",
       "2   15.96%        84.33     C        C5                       NaN  10+ years   \n",
       "3   13.49%       339.31     C        C1       AIR RESOURCES BOARD  10+ years   \n",
       "4   12.69%        67.79     B        B5  University Medical Group     1 year   \n",
       "\n",
       "  home_ownership  annual_inc verification_status issue_d  loan_status  \\\n",
       "0           RENT     24000.0            Verified  Dec-11   Fully Paid   \n",
       "1           RENT     30000.0     Source Verified  Dec-11  Charged Off   \n",
       "2           RENT     12252.0        Not Verified  Dec-11   Fully Paid   \n",
       "3           RENT     49200.0     Source Verified  Dec-11   Fully Paid   \n",
       "4           RENT     80000.0     Source Verified  Dec-11      Current   \n",
       "\n",
       "  pymnt_plan                                                url  \\\n",
       "0          n  https://lendingclub.com/browse/loanDetail.acti...   \n",
       "1          n  https://lendingclub.com/browse/loanDetail.acti...   \n",
       "2          n  https://lendingclub.com/browse/loanDetail.acti...   \n",
       "3          n  https://lendingclub.com/browse/loanDetail.acti...   \n",
       "4          n  https://lendingclub.com/browse/loanDetail.acti...   \n",
       "\n",
       "                                                desc         purpose  \\\n",
       "0    Borrower added on 12/22/11 > I need to upgra...     credit_card   \n",
       "1    Borrower added on 12/22/11 > I plan to use t...             car   \n",
       "2                                                NaN  small_business   \n",
       "3    Borrower added on 12/21/11 > to pay for prop...           other   \n",
       "4    Borrower added on 12/21/11 > I plan on combi...           other   \n",
       "\n",
       "                  title zip_code addr_state    dti  delinq_2yrs  \\\n",
       "0              Computer    860xx         AZ  27.65            0   \n",
       "1                  bike    309xx         GA   1.00            0   \n",
       "2  real estate business    606xx         IL   8.72            0   \n",
       "3              personel    917xx         CA  20.00            0   \n",
       "4              Personal    972xx         OR  17.94            0   \n",
       "\n",
       "  earliest_cr_line  inq_last_6mths  mths_since_last_delinq  \\\n",
       "0           Jan-85               1                     NaN   \n",
       "1           Apr-99               5                     NaN   \n",
       "2           Nov-01               2                     NaN   \n",
       "3           Feb-96               1                    35.0   \n",
       "4           Jan-96               0                    38.0   \n",
       "\n",
       "   mths_since_last_record  open_acc  pub_rec  revol_bal revol_util  total_acc  \\\n",
       "0                     NaN         3        0      13648     83.70%          9   \n",
       "1                     NaN         3        0       1687      9.40%          4   \n",
       "2                     NaN         2        0       2956     98.50%         10   \n",
       "3                     NaN        10        0       5598        21%         37   \n",
       "4                     NaN        15        0      27783     53.90%         38   \n",
       "\n",
       "  initial_list_status  out_prncp  out_prncp_inv   total_pymnt  \\\n",
       "0                   f       0.00           0.00   5863.155187   \n",
       "1                   f       0.00           0.00   1008.710000   \n",
       "2                   f       0.00           0.00   3005.666844   \n",
       "3                   f       0.00           0.00  12231.890000   \n",
       "4                   f     524.06         524.06   3513.330000   \n",
       "\n",
       "   total_pymnt_inv  total_rec_prncp  total_rec_int  total_rec_late_fee  \\\n",
       "0          5833.84          5000.00         863.16                0.00   \n",
       "1          1008.71           456.46         435.17                0.00   \n",
       "2          3005.67          2400.00         605.67                0.00   \n",
       "3         12231.89         10000.00        2214.92               16.97   \n",
       "4          3513.33          2475.94        1037.39                0.00   \n",
       "\n",
       "   recoveries  collection_recovery_fee last_pymnt_d  last_pymnt_amnt  \\\n",
       "0        0.00                     0.00       Jan-15           171.62   \n",
       "1      117.08                     1.11       Apr-13           119.66   \n",
       "2        0.00                     0.00       Jun-14           649.91   \n",
       "3        0.00                     0.00       Jan-15           357.48   \n",
       "4        0.00                     0.00       May-16            67.79   \n",
       "\n",
       "  next_pymnt_d last_credit_pull_d  collections_12_mths_ex_med  \\\n",
       "0          NaN             May-16                         0.0   \n",
       "1          NaN             Sep-13                         0.0   \n",
       "2          NaN             May-16                         0.0   \n",
       "3          NaN             Apr-16                         0.0   \n",
       "4       Jun-16             May-16                         0.0   \n",
       "\n",
       "   mths_since_last_major_derog  policy_code application_type  \\\n",
       "0                          NaN            1       INDIVIDUAL   \n",
       "1                          NaN            1       INDIVIDUAL   \n",
       "2                          NaN            1       INDIVIDUAL   \n",
       "3                          NaN            1       INDIVIDUAL   \n",
       "4                          NaN            1       INDIVIDUAL   \n",
       "\n",
       "   annual_inc_joint  dti_joint  verification_status_joint  acc_now_delinq  \\\n",
       "0               NaN        NaN                        NaN               0   \n",
       "1               NaN        NaN                        NaN               0   \n",
       "2               NaN        NaN                        NaN               0   \n",
       "3               NaN        NaN                        NaN               0   \n",
       "4               NaN        NaN                        NaN               0   \n",
       "\n",
       "   tot_coll_amt  tot_cur_bal  open_acc_6m  open_il_6m  open_il_12m  \\\n",
       "0           NaN          NaN          NaN         NaN          NaN   \n",
       "1           NaN          NaN          NaN         NaN          NaN   \n",
       "2           NaN          NaN          NaN         NaN          NaN   \n",
       "3           NaN          NaN          NaN         NaN          NaN   \n",
       "4           NaN          NaN          NaN         NaN          NaN   \n",
       "\n",
       "   open_il_24m  mths_since_rcnt_il  total_bal_il  il_util  open_rv_12m  \\\n",
       "0          NaN                 NaN           NaN      NaN          NaN   \n",
       "1          NaN                 NaN           NaN      NaN          NaN   \n",
       "2          NaN                 NaN           NaN      NaN          NaN   \n",
       "3          NaN                 NaN           NaN      NaN          NaN   \n",
       "4          NaN                 NaN           NaN      NaN          NaN   \n",
       "\n",
       "   open_rv_24m  max_bal_bc  all_util  total_rev_hi_lim  inq_fi  total_cu_tl  \\\n",
       "0          NaN         NaN       NaN               NaN     NaN          NaN   \n",
       "1          NaN         NaN       NaN               NaN     NaN          NaN   \n",
       "2          NaN         NaN       NaN               NaN     NaN          NaN   \n",
       "3          NaN         NaN       NaN               NaN     NaN          NaN   \n",
       "4          NaN         NaN       NaN               NaN     NaN          NaN   \n",
       "\n",
       "   inq_last_12m  acc_open_past_24mths  avg_cur_bal  bc_open_to_buy  bc_util  \\\n",
       "0           NaN                   NaN          NaN             NaN      NaN   \n",
       "1           NaN                   NaN          NaN             NaN      NaN   \n",
       "2           NaN                   NaN          NaN             NaN      NaN   \n",
       "3           NaN                   NaN          NaN             NaN      NaN   \n",
       "4           NaN                   NaN          NaN             NaN      NaN   \n",
       "\n",
       "   chargeoff_within_12_mths  delinq_amnt  mo_sin_old_il_acct  \\\n",
       "0                       0.0            0                 NaN   \n",
       "1                       0.0            0                 NaN   \n",
       "2                       0.0            0                 NaN   \n",
       "3                       0.0            0                 NaN   \n",
       "4                       0.0            0                 NaN   \n",
       "\n",
       "   mo_sin_old_rev_tl_op  mo_sin_rcnt_rev_tl_op  mo_sin_rcnt_tl  mort_acc  \\\n",
       "0                   NaN                    NaN             NaN       NaN   \n",
       "1                   NaN                    NaN             NaN       NaN   \n",
       "2                   NaN                    NaN             NaN       NaN   \n",
       "3                   NaN                    NaN             NaN       NaN   \n",
       "4                   NaN                    NaN             NaN       NaN   \n",
       "\n",
       "   mths_since_recent_bc  mths_since_recent_bc_dlq  mths_since_recent_inq  \\\n",
       "0                   NaN                       NaN                    NaN   \n",
       "1                   NaN                       NaN                    NaN   \n",
       "2                   NaN                       NaN                    NaN   \n",
       "3                   NaN                       NaN                    NaN   \n",
       "4                   NaN                       NaN                    NaN   \n",
       "\n",
       "   mths_since_recent_revol_delinq  num_accts_ever_120_pd  num_actv_bc_tl  \\\n",
       "0                             NaN                    NaN             NaN   \n",
       "1                             NaN                    NaN             NaN   \n",
       "2                             NaN                    NaN             NaN   \n",
       "3                             NaN                    NaN             NaN   \n",
       "4                             NaN                    NaN             NaN   \n",
       "\n",
       "   num_actv_rev_tl  num_bc_sats  num_bc_tl  num_il_tl  num_op_rev_tl  \\\n",
       "0              NaN          NaN        NaN        NaN            NaN   \n",
       "1              NaN          NaN        NaN        NaN            NaN   \n",
       "2              NaN          NaN        NaN        NaN            NaN   \n",
       "3              NaN          NaN        NaN        NaN            NaN   \n",
       "4              NaN          NaN        NaN        NaN            NaN   \n",
       "\n",
       "   num_rev_accts  num_rev_tl_bal_gt_0  num_sats  num_tl_120dpd_2m  \\\n",
       "0            NaN                  NaN       NaN               NaN   \n",
       "1            NaN                  NaN       NaN               NaN   \n",
       "2            NaN                  NaN       NaN               NaN   \n",
       "3            NaN                  NaN       NaN               NaN   \n",
       "4            NaN                  NaN       NaN               NaN   \n",
       "\n",
       "   num_tl_30dpd  num_tl_90g_dpd_24m  num_tl_op_past_12m  pct_tl_nvr_dlq  \\\n",
       "0           NaN                 NaN                 NaN             NaN   \n",
       "1           NaN                 NaN                 NaN             NaN   \n",
       "2           NaN                 NaN                 NaN             NaN   \n",
       "3           NaN                 NaN                 NaN             NaN   \n",
       "4           NaN                 NaN                 NaN             NaN   \n",
       "\n",
       "   percent_bc_gt_75  pub_rec_bankruptcies  tax_liens  tot_hi_cred_lim  \\\n",
       "0               NaN                   0.0        0.0              NaN   \n",
       "1               NaN                   0.0        0.0              NaN   \n",
       "2               NaN                   0.0        0.0              NaN   \n",
       "3               NaN                   0.0        0.0              NaN   \n",
       "4               NaN                   0.0        0.0              NaN   \n",
       "\n",
       "   total_bal_ex_mort  total_bc_limit  total_il_high_credit_limit  \n",
       "0                NaN             NaN                         NaN  \n",
       "1                NaN             NaN                         NaN  \n",
       "2                NaN             NaN                         NaN  \n",
       "3                NaN             NaN                         NaN  \n",
       "4                NaN             NaN                         NaN  "
      ]
     },
     "execution_count": 161,
     "metadata": {},
     "output_type": "execute_result"
    }
   ],
   "source": [
    "#reading dataset from csv file\n",
    "loan = pd.read_csv('loan.csv')\n",
    "\n",
    "loan.head()"
   ]
  },
  {
   "cell_type": "code",
   "execution_count": 162,
   "id": "603f28bc",
   "metadata": {},
   "outputs": [
    {
     "name": "stdout",
     "output_type": "stream",
     "text": [
      "Shape of data (39717, 111)\n"
     ]
    }
   ],
   "source": [
    "print(\"Shape of data\",loan.shape)"
   ]
  },
  {
   "cell_type": "code",
   "execution_count": 163,
   "id": "78ddf577",
   "metadata": {
    "scrolled": true
   },
   "outputs": [
    {
     "name": "stdout",
     "output_type": "stream",
     "text": [
      "<class 'pandas.core.frame.DataFrame'>\n",
      "RangeIndex: 39717 entries, 0 to 39716\n",
      "Columns: 111 entries, id to total_il_high_credit_limit\n",
      "dtypes: float64(74), int64(13), object(24)\n",
      "memory usage: 33.6+ MB\n"
     ]
    }
   ],
   "source": [
    "# Checking datatype of all columns\n",
    "loan.info()"
   ]
  },
  {
   "cell_type": "markdown",
   "id": "64c2cdab",
   "metadata": {},
   "source": [
    "## Handling Missing Values"
   ]
  },
  {
   "cell_type": "code",
   "execution_count": 164,
   "id": "0f4c39d4",
   "metadata": {},
   "outputs": [],
   "source": [
    "def missing_values_percent(df):\n",
    "  total = df.isnull().sum().sort_values(ascending = False)\n",
    "  percent = (df.isnull().sum()/df.isnull().count()*100).sort_values(ascending = False)\n",
    "  missing_data  = pd.concat([total, percent], axis=1, keys=['Count', 'Percentage'])\n",
    "  missing_data = missing_data[missing_data['Percentage'] > 0]\n",
    "  return missing_data  "
   ]
  },
  {
   "cell_type": "code",
   "execution_count": 165,
   "id": "5c349d36",
   "metadata": {},
   "outputs": [
    {
     "data": {
      "text/html": [
       "<div>\n",
       "<style scoped>\n",
       "    .dataframe tbody tr th:only-of-type {\n",
       "        vertical-align: middle;\n",
       "    }\n",
       "\n",
       "    .dataframe tbody tr th {\n",
       "        vertical-align: top;\n",
       "    }\n",
       "\n",
       "    .dataframe thead th {\n",
       "        text-align: right;\n",
       "    }\n",
       "</style>\n",
       "<table border=\"1\" class=\"dataframe\">\n",
       "  <thead>\n",
       "    <tr style=\"text-align: right;\">\n",
       "      <th></th>\n",
       "      <th>Count</th>\n",
       "      <th>Percentage</th>\n",
       "    </tr>\n",
       "  </thead>\n",
       "  <tbody>\n",
       "    <tr>\n",
       "      <th>verification_status_joint</th>\n",
       "      <td>39717</td>\n",
       "      <td>100.000000</td>\n",
       "    </tr>\n",
       "    <tr>\n",
       "      <th>annual_inc_joint</th>\n",
       "      <td>39717</td>\n",
       "      <td>100.000000</td>\n",
       "    </tr>\n",
       "    <tr>\n",
       "      <th>mo_sin_old_rev_tl_op</th>\n",
       "      <td>39717</td>\n",
       "      <td>100.000000</td>\n",
       "    </tr>\n",
       "    <tr>\n",
       "      <th>mo_sin_old_il_acct</th>\n",
       "      <td>39717</td>\n",
       "      <td>100.000000</td>\n",
       "    </tr>\n",
       "    <tr>\n",
       "      <th>bc_util</th>\n",
       "      <td>39717</td>\n",
       "      <td>100.000000</td>\n",
       "    </tr>\n",
       "    <tr>\n",
       "      <th>...</th>\n",
       "      <td>...</td>\n",
       "      <td>...</td>\n",
       "    </tr>\n",
       "    <tr>\n",
       "      <th>chargeoff_within_12_mths</th>\n",
       "      <td>56</td>\n",
       "      <td>0.140998</td>\n",
       "    </tr>\n",
       "    <tr>\n",
       "      <th>revol_util</th>\n",
       "      <td>50</td>\n",
       "      <td>0.125891</td>\n",
       "    </tr>\n",
       "    <tr>\n",
       "      <th>tax_liens</th>\n",
       "      <td>39</td>\n",
       "      <td>0.098195</td>\n",
       "    </tr>\n",
       "    <tr>\n",
       "      <th>title</th>\n",
       "      <td>11</td>\n",
       "      <td>0.027696</td>\n",
       "    </tr>\n",
       "    <tr>\n",
       "      <th>last_credit_pull_d</th>\n",
       "      <td>2</td>\n",
       "      <td>0.005036</td>\n",
       "    </tr>\n",
       "  </tbody>\n",
       "</table>\n",
       "<p>68 rows × 2 columns</p>\n",
       "</div>"
      ],
      "text/plain": [
       "                           Count  Percentage\n",
       "verification_status_joint  39717  100.000000\n",
       "annual_inc_joint           39717  100.000000\n",
       "mo_sin_old_rev_tl_op       39717  100.000000\n",
       "mo_sin_old_il_acct         39717  100.000000\n",
       "bc_util                    39717  100.000000\n",
       "...                          ...         ...\n",
       "chargeoff_within_12_mths      56    0.140998\n",
       "revol_util                    50    0.125891\n",
       "tax_liens                     39    0.098195\n",
       "title                         11    0.027696\n",
       "last_credit_pull_d             2    0.005036\n",
       "\n",
       "[68 rows x 2 columns]"
      ]
     },
     "execution_count": 165,
     "metadata": {},
     "output_type": "execute_result"
    }
   ],
   "source": [
    "mv = missing_values_percent(loan)\n",
    "mv"
   ]
  },
  {
   "cell_type": "markdown",
   "id": "fccc3437",
   "metadata": {},
   "source": [
    "Inference: Most of the features have only NULL values(100%), so we will delete columns having greater than 60% of missing values"
   ]
  },
  {
   "cell_type": "markdown",
   "id": "2d480dd2",
   "metadata": {},
   "source": [
    "## Cleaning the dataset"
   ]
  },
  {
   "cell_type": "code",
   "execution_count": 166,
   "id": "f5d1db71",
   "metadata": {},
   "outputs": [
    {
     "name": "stdout",
     "output_type": "stream",
     "text": [
      "Number of features with more than 60 % of missing values : 57\n",
      "Shape of data before removing missing values :  (39717, 111)\n",
      "Shape of data after removing missing values  :  (39717, 54)\n"
     ]
    }
   ],
   "source": [
    "mv = mv[mv['Percentage']>60]\n",
    "print(\"Number of features with more than 60 % of missing values :\", len(list(mv.index)))\n",
    "print('Shape of data before removing missing values : ', loan.shape)\n",
    "loan = loan.drop(columns=list(mv.index)).copy()\n",
    "print(\"Shape of data after removing missing values  : \",loan.shape)"
   ]
  },
  {
   "cell_type": "code",
   "execution_count": 167,
   "id": "670a9f63",
   "metadata": {},
   "outputs": [
    {
     "name": "stdout",
     "output_type": "stream",
     "text": [
      "1    39717\n",
      "Name: policy_code, dtype: int64\n",
      "f    39717\n",
      "Name: initial_list_status, dtype: int64\n",
      "0.0    39661\n",
      "Name: collections_12_mths_ex_med, dtype: int64\n",
      "0    39717\n",
      "Name: acc_now_delinq, dtype: int64\n",
      "0.0    39661\n",
      "Name: chargeoff_within_12_mths, dtype: int64\n",
      "0    39717\n",
      "Name: delinq_amnt, dtype: int64\n",
      "0.0    39678\n",
      "Name: tax_liens, dtype: int64\n",
      "n    39717\n",
      "Name: pymnt_plan, dtype: int64\n",
      "\n",
      "\n",
      "Shape after removal (39717, 46)\n"
     ]
    }
   ],
   "source": [
    "# dropping columns where most of the values are same\n",
    "\n",
    "print(loan['policy_code'].value_counts())\n",
    "print(loan['initial_list_status'].value_counts())\n",
    "print(loan['collections_12_mths_ex_med'].value_counts())\n",
    "print(loan['acc_now_delinq'].value_counts())\n",
    "print(loan['chargeoff_within_12_mths'].value_counts())\n",
    "print(loan['delinq_amnt'].value_counts())\n",
    "print(loan['tax_liens'].value_counts())\n",
    "print(loan['pymnt_plan'].value_counts())\n",
    "\n",
    "loan.drop(columns=['policy_code', 'initial_list_status', 'collections_12_mths_ex_med', 'acc_now_delinq', 'delinq_amnt', 'tax_liens', 'chargeoff_within_12_mths', 'pymnt_plan'], inplace=True)\n",
    "\n",
    "print('\\n\\nShape after removal' , loan.shape)"
   ]
  },
  {
   "cell_type": "code",
   "execution_count": 168,
   "id": "7ce93d39",
   "metadata": {},
   "outputs": [
    {
     "name": "stdout",
     "output_type": "stream",
     "text": [
      "INDIVIDUAL    39717\n",
      "Name: application_type, dtype: int64\n"
     ]
    }
   ],
   "source": [
    "# dropping application type column since all the application type has same value \"INDIVIDUAL\"\n",
    "print(loan['application_type'].value_counts())\n",
    "\n",
    "loan.drop(columns='application_type', inplace=True)"
   ]
  },
  {
   "cell_type": "code",
   "execution_count": 169,
   "id": "8882f822",
   "metadata": {},
   "outputs": [
    {
     "name": "stdout",
     "output_type": "stream",
     "text": [
      "Shape after removal (39717, 32)\n"
     ]
    }
   ],
   "source": [
    "# dropping columns which are not required in our data analysis\n",
    "loan.drop(columns=['member_id', 'installment', 'emp_title', 'url', 'desc', \n",
    "                   'zip_code', 'title', 'revol_bal', 'revol_util', 'earliest_cr_line', \n",
    "                   'last_pymnt_d', 'last_pymnt_amnt', 'last_credit_pull_d'], inplace=True)\n",
    "\n",
    "print('Shape after removal' , loan.shape)"
   ]
  },
  {
   "cell_type": "code",
   "execution_count": 170,
   "id": "e10129df",
   "metadata": {},
   "outputs": [
    {
     "data": {
      "text/plain": [
       "10+ years    8879\n",
       "< 1 year     4583\n",
       "2 years      4388\n",
       "3 years      4095\n",
       "4 years      3436\n",
       "5 years      3282\n",
       "1 year       3240\n",
       "6 years      2229\n",
       "7 years      1773\n",
       "8 years      1479\n",
       "9 years      1258\n",
       "Name: emp_length, dtype: int64"
      ]
     },
     "execution_count": 170,
     "metadata": {},
     "output_type": "execute_result"
    }
   ],
   "source": [
    "# viewing the count of each value for employment length\n",
    "loan['emp_length'].value_counts()"
   ]
  },
  {
   "cell_type": "code",
   "execution_count": 171,
   "id": "5d48dce3",
   "metadata": {},
   "outputs": [],
   "source": [
    "# converting '10+ years' to 10 and '< 1 year' to 0.5 and in all others, just removing ' years'.\n",
    "# Also converting object type to float\n",
    "loan.emp_length = loan.emp_length.replace({'< 1 year': 0.5, '10+ years': 10, '2 years': 2, '3 years': 3, \n",
    "                                           '4 years': 4, '5 years': 5, '6 years': 6, '7 years': 7, \n",
    "                                           '8 years': 8, '9 years': 9, '1 year': 1})\n",
    "\n",
    "# There are some null values which we assume that the applicants were doing odd jobs or part-time jobs\n",
    "# imputing all null values with lowest experience i.e., '0.5'\n",
    "loan['emp_length'] = loan['emp_length'].fillna(0.5)"
   ]
  },
  {
   "cell_type": "code",
   "execution_count": 172,
   "id": "6b9d760a",
   "metadata": {},
   "outputs": [
    {
     "data": {
      "text/plain": [
       "697"
      ]
     },
     "execution_count": 172,
     "metadata": {},
     "output_type": "execute_result"
    }
   ],
   "source": [
    "# Checking pub_rec_bankrupties\n",
    "loan.pub_rec_bankruptcies.isnull().sum()"
   ]
  },
  {
   "cell_type": "code",
   "execution_count": 173,
   "id": "05dae13e",
   "metadata": {},
   "outputs": [],
   "source": [
    "# imputing null values on pub_rec_bankruptcies column with the median value i.e., 0.0\n",
    "loan['pub_rec_bankruptcies'] = loan['pub_rec_bankruptcies'].fillna(loan['pub_rec_bankruptcies'].median())"
   ]
  },
  {
   "cell_type": "code",
   "execution_count": 174,
   "id": "a93e26eb",
   "metadata": {},
   "outputs": [],
   "source": [
    "# rounding off the float column values to 2 decimal places\n",
    "\n",
    "amount_fields = ['funded_amnt_inv', 'annual_inc', 'dti', 'out_prncp', \n",
    "                 'out_prncp_inv', 'total_pymnt', 'total_pymnt_inv', 'total_rec_prncp', 'total_rec_int',\n",
    "                'total_rec_late_fee', 'recoveries', 'collection_recovery_fee'] \n",
    "\n",
    "for i in amount_fields:\n",
    "    loan[i] = loan[i].apply(lambda x: round(x, 2))"
   ]
  },
  {
   "cell_type": "code",
   "execution_count": 175,
   "id": "1ea698b9",
   "metadata": {},
   "outputs": [],
   "source": [
    "# removing % sign from interest rate and also converting to float from object type\n",
    "\n",
    "loan['int_rate'] = loan['int_rate'].apply(lambda x : float(x.replace('%', '')))"
   ]
  },
  {
   "cell_type": "code",
   "execution_count": 176,
   "id": "9e700aad",
   "metadata": {},
   "outputs": [],
   "source": [
    "# converting issue date column to datetime format from object type\n",
    "\n",
    "loan['issue_d'] = loan['issue_d'].apply(lambda x : dt.datetime.strptime(x, '%b-%y'))"
   ]
  },
  {
   "cell_type": "markdown",
   "id": "c720a115",
   "metadata": {},
   "source": [
    "### Creating derived features "
   ]
  },
  {
   "cell_type": "code",
   "execution_count": 177,
   "id": "5e4e01fb",
   "metadata": {},
   "outputs": [],
   "source": [
    "# Creating issue month and issue year from issue date\n",
    "loan['issue_d_year'] = loan['issue_d'].dt.year\n",
    "loan['issue_d_month'] = loan['issue_d'].dt.month_name()"
   ]
  },
  {
   "cell_type": "markdown",
   "id": "3d3db488",
   "metadata": {},
   "source": [
    "#### Creating buckets for - annual_inc, loan_amnt, int_rate"
   ]
  },
  {
   "cell_type": "markdown",
   "id": "f1547c55",
   "metadata": {},
   "source": [
    "## Univariate Analysis"
   ]
  },
  {
   "cell_type": "code",
   "execution_count": 178,
   "id": "54c7e4cb",
   "metadata": {},
   "outputs": [
    {
     "data": {
      "image/png": "[encoded data removed]",
      "text/plain": [
       "<Figure size 432x288 with 1 Axes>"
      ]
     },
     "metadata": {
      "needs_background": "light"
     },
     "output_type": "display_data"
    }
   ],
   "source": [
    "#Loan amount\n",
    "sns.boxplot(y=loan[\"loan_amnt\"] )\n",
    "plt.ylabel('Loan Amount')\n",
    "plt.show()"
   ]
  },
  {
   "cell_type": "markdown",
   "id": "4581d954",
   "metadata": {},
   "source": [
    "**The above plots show that the majority of the loan amount ranges from 5k to 15k and maximum goes upto 35k**\n",
    "\n",
    "---------"
   ]
  },
  {
   "cell_type": "code",
   "execution_count": 179,
   "id": "72951545",
   "metadata": {},
   "outputs": [
    {
     "data": {
      "image/png": "[encoded data removed]",
      "text/plain": [
       "<Figure size 432x288 with 1 Axes>"
      ]
     },
     "metadata": {
      "needs_background": "light"
     },
     "output_type": "display_data"
    }
   ],
   "source": [
    "# Analysis on interest rate\n",
    "#Loan amount\n",
    "sns.boxplot(y=loan[\"int_rate\"] )\n",
    "plt.ylabel('Interest Rate')\n",
    "plt.show()"
   ]
  },
  {
   "cell_type": "markdown",
   "id": "a561cecd",
   "metadata": {},
   "source": [
    "**The above plots show that the majority of loan have interest rate range from 9% - 15%. Maximum it goes upto 25%**\n",
    "\n",
    "-----------"
   ]
  },
  {
   "cell_type": "code",
   "execution_count": 180,
   "id": "41d54aa5",
   "metadata": {},
   "outputs": [
    {
     "data": {
      "image/png": "[encoded data removed]",
      "text/plain": [
       "<Figure size 432x288 with 1 Axes>"
      ]
     },
     "metadata": {
      "needs_background": "light"
     },
     "output_type": "display_data"
    }
   ],
   "source": [
    "# Analysis on annual income\n",
    "sns.boxplot(y=loan[\"annual_inc\"] )\n",
    "plt.ylabel('Annual Income')\n",
    "plt.show()\n",
    "# the below plot shows that there are few outliers in annual income. \n",
    "# Let's treat these outliers in order to make our analays smooth."
   ]
  },
  {
   "cell_type": "code",
   "execution_count": 181,
   "id": "ca110204",
   "metadata": {},
   "outputs": [
    {
     "name": "stdout",
     "output_type": "stream",
     "text": [
      "187000.0\n"
     ]
    },
    {
     "data": {
      "image/png": "[encoded data removed]",
      "text/plain": [
       "<Figure size 864x432 with 2 Axes>"
      ]
     },
     "metadata": {
      "needs_background": "light"
     },
     "output_type": "display_data"
    }
   ],
   "source": [
    "# marking values above 98th quantile as outliers \n",
    "outlier = loan.annual_inc.quantile(.98)\n",
    "print(outlier)\n",
    "\n",
    "loan = (loan[loan['annual_inc'] < outlier])\n",
    "\n",
    "fig, axes = plt.subplots(1,2,figsize=(12,6))\n",
    "sns.distplot(loan['annual_inc'], hist=True, kde=True, color='g', ax=axes[0])\n",
    "\n",
    "sns.boxplot(loan['annual_inc'], ax=axes[1])\n",
    "axes[0].set_title('Distribution of annual income', fontsize=15)\n",
    "axes[1].set_title('Annual income range', fontsize=15)\n",
    "plt.tight_layout()\n",
    "plt.show()"
   ]
  },
  {
   "cell_type": "markdown",
   "id": "6b576aea",
   "metadata": {},
   "source": [
    "**After treating the outliers in annual income, boxplot looks much better. Most of applicants have income less than $80000 year**\n",
    "\n",
    "-----"
   ]
  },
  {
   "cell_type": "code",
   "execution_count": 182,
   "id": "1ca099bb",
   "metadata": {},
   "outputs": [
    {
     "data": {
      "image/png": "[encoded data removed]",
      "text/plain": [
       "<Figure size 432x288 with 1 Axes>"
      ]
     },
     "metadata": {
      "needs_background": "light"
     },
     "output_type": "display_data"
    }
   ],
   "source": [
    "# Analysis on loan status \n",
    "sns.countplot(x = 'loan_status', data = loan)\n",
    "plt.show()\n",
    "# The below countplot  shows that around 14% of loans are \"Charged Off\" where applicant has not paid the instalments\n",
    "# in due time for a long period of time, i.e., he/she has defaulted on the loan"
   ]
  },
  {
   "cell_type": "markdown",
   "id": "2cb8be1a",
   "metadata": {},
   "source": [
    "###### Loan_Status = shows that around 14%(5000) of loans are Charged Off where applicant has not paid the instalments"
   ]
  },
  {
   "cell_type": "code",
   "execution_count": 183,
   "id": "9da89adc",
   "metadata": {},
   "outputs": [
    {
     "data": {
      "image/png": "[encoded data removed]",
      "text/plain": [
       "<Figure size 432x288 with 1 Axes>"
      ]
     },
     "metadata": {
      "needs_background": "light"
     },
     "output_type": "display_data"
    }
   ],
   "source": [
    "#employee length\n",
    "sns.countplot(x='emp_length', data=loan)\n",
    "plt.xlabel('Employee Working Experience')\n",
    "plt.show()"
   ]
  },
  {
   "cell_type": "markdown",
   "id": "4b6d0e3f",
   "metadata": {},
   "source": [
    "###### Inference: Majority of employees applying for the loan have more than 10 years of experience"
   ]
  },
  {
   "cell_type": "code",
   "execution_count": 184,
   "id": "c62ca08e",
   "metadata": {},
   "outputs": [
    {
     "data": {
      "image/png": "[encoded data removed]",
      "text/plain": [
       "<Figure size 432x288 with 1 Axes>"
      ]
     },
     "metadata": {
      "needs_background": "light"
     },
     "output_type": "display_data"
    }
   ],
   "source": [
    "#Grade\n",
    "sns.countplot(x='grade', data=loan)\n",
    "plt.show()"
   ]
  },
  {
   "cell_type": "markdown",
   "id": "c4f39732",
   "metadata": {},
   "source": [
    "Most of the loans have grade of A and B. Therefore stating most of the loans are high graded loans"
   ]
  },
  {
   "cell_type": "code",
   "execution_count": 185,
   "id": "461b999f",
   "metadata": {},
   "outputs": [],
   "source": [
    "# Dropping records where loan status is \"Current\". These records are not further required in our analysis.\n",
    "loan = loan[loan['loan_status'] != 'Current']"
   ]
  },
  {
   "cell_type": "markdown",
   "id": "d8635345",
   "metadata": {},
   "source": [
    "## Segmented Univariate Analysis"
   ]
  },
  {
   "cell_type": "code",
   "execution_count": 186,
   "id": "9df4222d",
   "metadata": {},
   "outputs": [
    {
     "data": {
      "image/png": "[encoded data removed]",
      "text/plain": [
       "<Figure size 1080x576 with 1 Axes>"
      ]
     },
     "metadata": {
      "needs_background": "light"
     },
     "output_type": "display_data"
    }
   ],
   "source": [
    "# Analysis on home ownership\n",
    "loan.groupby('loan_status')['home_ownership'].value_counts().unstack().plot(kind='bar', figsize=[15,8])\n",
    "plt.show()"
   ]
  },
  {
   "cell_type": "markdown",
   "id": "3cc58664",
   "metadata": {},
   "source": [
    "**Most of the applicant's home ownership status is \"Mortgage\" or \"Rent\". This number is also high in Charged Off loans.**\n",
    "\n",
    "--------"
   ]
  },
  {
   "cell_type": "code",
   "execution_count": 187,
   "id": "fb6e4eed",
   "metadata": {},
   "outputs": [
    {
     "data": {
      "image/png": "[encoded data removed]",
      "text/plain": [
       "<Figure size 1080x576 with 1 Axes>"
      ]
     },
     "metadata": {
      "needs_background": "light"
     },
     "output_type": "display_data"
    }
   ],
   "source": [
    "# Analysis on purpose\n",
    "loan.groupby('loan_status')['purpose'].value_counts().unstack().plot(kind='bar', figsize=[15,8])\n",
    "plt.show()"
   ]
  },
  {
   "cell_type": "markdown",
   "id": "78196225",
   "metadata": {},
   "source": [
    "**The above plot shows that the purpose on majority of loans are debt consolidation. The number is also high on Charged Off loans.**\n",
    "\n",
    "-----"
   ]
  },
  {
   "cell_type": "code",
   "execution_count": 188,
   "id": "13248761",
   "metadata": {},
   "outputs": [
    {
     "data": {
      "image/png": "[encoded data removed]",
      "text/plain": [
       "<Figure size 1080x576 with 1 Axes>"
      ]
     },
     "metadata": {
      "needs_background": "light"
     },
     "output_type": "display_data"
    }
   ],
   "source": [
    "# Analysis on verification status\n",
    "loan.groupby('loan_status')['verification_status'].value_counts().unstack().plot(kind='bar', figsize=[15,8])\n",
    "plt.show()"
   ]
  },
  {
   "cell_type": "markdown",
   "id": "eae7548b",
   "metadata": {},
   "source": [
    "**The above plot shows that on most of loans, income verification status is Not Verified. This number is also high on Charged Off loans.**\n",
    "\n",
    "--------"
   ]
  },
  {
   "cell_type": "code",
   "execution_count": 189,
   "id": "e3bc5cae",
   "metadata": {},
   "outputs": [
    {
     "data": {
      "image/png": "[encoded data removed]",
      "text/plain": [
       "<Figure size 1080x576 with 1 Axes>"
      ]
     },
     "metadata": {
      "needs_background": "light"
     },
     "output_type": "display_data"
    }
   ],
   "source": [
    "# Analysis on loan term\n",
    "loan.groupby('loan_status')['term'].value_counts().unstack().plot(kind='bar', figsize=[15,8])\n",
    "plt.show()"
   ]
  },
  {
   "cell_type": "markdown",
   "id": "007e2df7",
   "metadata": {},
   "source": [
    "**Most of loans have 36 months term. This number is also high in Charged Off loans but the ratio of 60 months is higher on Charged Off as compared to 36 months.** \n",
    "\n",
    "-----"
   ]
  },
  {
   "cell_type": "markdown",
   "id": "e17d83c7",
   "metadata": {},
   "source": [
    "## Bivariate Analysis"
   ]
  },
  {
   "cell_type": "markdown",
   "id": "a783faf1",
   "metadata": {},
   "source": [
    "**Since most of the data values are high in both \"Fully Paid\" and \"Charged Off\" records. It is difficult to find the driving variables behind Charged Off on the basis of count.**"
   ]
  },
  {
   "cell_type": "code",
   "execution_count": 190,
   "id": "c58e2a4e",
   "metadata": {},
   "outputs": [
    {
     "data": {
      "text/plain": [
       "<AxesSubplot:xlabel='loan_status', ylabel='int_rate'>"
      ]
     },
     "execution_count": 190,
     "metadata": {},
     "output_type": "execute_result"
    },
    {
     "data": {
      "image/png": "[encoded data removed]",
      "text/plain": [
       "<Figure size 432x288 with 1 Axes>"
      ]
     },
     "metadata": {
      "needs_background": "light"
     },
     "output_type": "display_data"
    }
   ],
   "source": [
    "sns.boxplot(x = 'loan_status', y = 'int_rate', data = loan)"
   ]
  },
  {
   "cell_type": "markdown",
   "id": "a2616868",
   "metadata": {},
   "source": [
    "###### As the interest rate increases the number of defaulters also increases"
   ]
  },
  {
   "cell_type": "code",
   "execution_count": 191,
   "id": "69892761",
   "metadata": {},
   "outputs": [
    {
     "data": {
      "image/png": "[encoded data removed]",
      "text/plain": [
       "<Figure size 432x288 with 1 Axes>"
      ]
     },
     "metadata": {
      "needs_background": "light"
     },
     "output_type": "display_data"
    }
   ],
   "source": [
    "# Bivariate analysis on annual income.\n",
    "sns.barplot(y='annual_inc', x='pub_rec_bankruptcies', data=loan)\n",
    "plt.xticks(rotation=90)\n",
    "plt.show()"
   ]
  },
  {
   "cell_type": "markdown",
   "id": "d15084d5",
   "metadata": {},
   "source": [
    "###### Number of public record bankruptcies is high for applications having less than 60k"
   ]
  },
  {
   "cell_type": "code",
   "execution_count": 192,
   "id": "d0ded241",
   "metadata": {},
   "outputs": [
    {
     "data": {
      "text/html": [
       "<div>\n",
       "<style scoped>\n",
       "    .dataframe tbody tr th:only-of-type {\n",
       "        vertical-align: middle;\n",
       "    }\n",
       "\n",
       "    .dataframe tbody tr th {\n",
       "        vertical-align: top;\n",
       "    }\n",
       "\n",
       "    .dataframe thead th {\n",
       "        text-align: right;\n",
       "    }\n",
       "</style>\n",
       "<table border=\"1\" class=\"dataframe\">\n",
       "  <thead>\n",
       "    <tr style=\"text-align: right;\">\n",
       "      <th>loan_status</th>\n",
       "      <th>purpose</th>\n",
       "      <th>Charged Off</th>\n",
       "      <th>Fully Paid</th>\n",
       "      <th>Total</th>\n",
       "      <th>Charged Off Ratio</th>\n",
       "    </tr>\n",
       "  </thead>\n",
       "  <tbody>\n",
       "    <tr>\n",
       "      <th>11</th>\n",
       "      <td>small_business</td>\n",
       "      <td>469</td>\n",
       "      <td>1227</td>\n",
       "      <td>1696</td>\n",
       "      <td>27.653302</td>\n",
       "    </tr>\n",
       "    <tr>\n",
       "      <th>10</th>\n",
       "      <td>renewable_energy</td>\n",
       "      <td>18</td>\n",
       "      <td>79</td>\n",
       "      <td>97</td>\n",
       "      <td>18.556701</td>\n",
       "    </tr>\n",
       "    <tr>\n",
       "      <th>3</th>\n",
       "      <td>educational</td>\n",
       "      <td>54</td>\n",
       "      <td>265</td>\n",
       "      <td>319</td>\n",
       "      <td>16.927900</td>\n",
       "    </tr>\n",
       "    <tr>\n",
       "      <th>9</th>\n",
       "      <td>other</td>\n",
       "      <td>617</td>\n",
       "      <td>3172</td>\n",
       "      <td>3789</td>\n",
       "      <td>16.283980</td>\n",
       "    </tr>\n",
       "    <tr>\n",
       "      <th>5</th>\n",
       "      <td>house</td>\n",
       "      <td>57</td>\n",
       "      <td>296</td>\n",
       "      <td>353</td>\n",
       "      <td>16.147309</td>\n",
       "    </tr>\n",
       "    <tr>\n",
       "      <th>7</th>\n",
       "      <td>medical</td>\n",
       "      <td>106</td>\n",
       "      <td>555</td>\n",
       "      <td>661</td>\n",
       "      <td>16.036309</td>\n",
       "    </tr>\n",
       "    <tr>\n",
       "      <th>8</th>\n",
       "      <td>moving</td>\n",
       "      <td>90</td>\n",
       "      <td>476</td>\n",
       "      <td>566</td>\n",
       "      <td>15.901060</td>\n",
       "    </tr>\n",
       "    <tr>\n",
       "      <th>2</th>\n",
       "      <td>debt_consolidation</td>\n",
       "      <td>2742</td>\n",
       "      <td>15036</td>\n",
       "      <td>17778</td>\n",
       "      <td>15.423557</td>\n",
       "    </tr>\n",
       "    <tr>\n",
       "      <th>12</th>\n",
       "      <td>vacation</td>\n",
       "      <td>53</td>\n",
       "      <td>319</td>\n",
       "      <td>372</td>\n",
       "      <td>14.247312</td>\n",
       "    </tr>\n",
       "    <tr>\n",
       "      <th>4</th>\n",
       "      <td>home_improvement</td>\n",
       "      <td>335</td>\n",
       "      <td>2405</td>\n",
       "      <td>2740</td>\n",
       "      <td>12.226277</td>\n",
       "    </tr>\n",
       "    <tr>\n",
       "      <th>0</th>\n",
       "      <td>car</td>\n",
       "      <td>160</td>\n",
       "      <td>1319</td>\n",
       "      <td>1479</td>\n",
       "      <td>10.818120</td>\n",
       "    </tr>\n",
       "    <tr>\n",
       "      <th>1</th>\n",
       "      <td>credit_card</td>\n",
       "      <td>534</td>\n",
       "      <td>4404</td>\n",
       "      <td>4938</td>\n",
       "      <td>10.814095</td>\n",
       "    </tr>\n",
       "    <tr>\n",
       "      <th>6</th>\n",
       "      <td>major_purchase</td>\n",
       "      <td>219</td>\n",
       "      <td>1887</td>\n",
       "      <td>2106</td>\n",
       "      <td>10.398860</td>\n",
       "    </tr>\n",
       "    <tr>\n",
       "      <th>13</th>\n",
       "      <td>wedding</td>\n",
       "      <td>94</td>\n",
       "      <td>815</td>\n",
       "      <td>909</td>\n",
       "      <td>10.341034</td>\n",
       "    </tr>\n",
       "  </tbody>\n",
       "</table>\n",
       "</div>"
      ],
      "text/plain": [
       "loan_status             purpose  Charged Off  Fully Paid  Total  \\\n",
       "11               small_business          469        1227   1696   \n",
       "10             renewable_energy           18          79     97   \n",
       "3                   educational           54         265    319   \n",
       "9                         other          617        3172   3789   \n",
       "5                         house           57         296    353   \n",
       "7                       medical          106         555    661   \n",
       "8                        moving           90         476    566   \n",
       "2            debt_consolidation         2742       15036  17778   \n",
       "12                     vacation           53         319    372   \n",
       "4              home_improvement          335        2405   2740   \n",
       "0                           car          160        1319   1479   \n",
       "1                   credit_card          534        4404   4938   \n",
       "6                major_purchase          219        1887   2106   \n",
       "13                      wedding           94         815    909   \n",
       "\n",
       "loan_status  Charged Off Ratio  \n",
       "11                   27.653302  \n",
       "10                   18.556701  \n",
       "3                    16.927900  \n",
       "9                    16.283980  \n",
       "5                    16.147309  \n",
       "7                    16.036309  \n",
       "8                    15.901060  \n",
       "2                    15.423557  \n",
       "12                   14.247312  \n",
       "4                    12.226277  \n",
       "0                    10.818120  \n",
       "1                    10.814095  \n",
       "6                    10.398860  \n",
       "13                   10.341034  "
      ]
     },
     "execution_count": 192,
     "metadata": {},
     "output_type": "execute_result"
    }
   ],
   "source": [
    "# Analysis on Loan purpose\n",
    "\n",
    "ratio_wise = loan.pivot_table(index='purpose', columns='loan_status',\n",
    "                              values='id', aggfunc=len).reset_index()\n",
    "\n",
    "ratio_wise['Total'] = ratio_wise['Charged Off'] + ratio_wise['Fully Paid']\n",
    "ratio_wise['Charged Off Ratio'] = (ratio_wise['Charged Off'] * 100)/ratio_wise['Total']\n",
    "ratio_wise.sort_values(by='Charged Off Ratio', ascending=False)"
   ]
  },
  {
   "cell_type": "code",
   "execution_count": 193,
   "id": "c1ef78d1",
   "metadata": {},
   "outputs": [
    {
     "data": {
      "image/png": "[encoded data removed]",
      "text/plain": [
       "<Figure size 720x432 with 1 Axes>"
      ]
     },
     "metadata": {
      "needs_background": "light"
     },
     "output_type": "display_data"
    }
   ],
   "source": [
    "plt.figure(figsize=[10,6])\n",
    "plt.title('Charged Off ratio in Loan Purpose')\n",
    "sns.barplot(ratio_wise['Charged Off Ratio'], ratio_wise['purpose'])\n",
    "plt.show()"
   ]
  },
  {
   "cell_type": "markdown",
   "id": "4d528c9a",
   "metadata": {},
   "source": [
    "**The above plot shows that the loan taken for Small Business purpose are likely to get Charged Off.**\n",
    "\n",
    "---"
   ]
  },
  {
   "cell_type": "code",
   "execution_count": 194,
   "id": "74a97ec7",
   "metadata": {},
   "outputs": [
    {
     "data": {
      "image/png": "[encoded data removed]",
      "text/plain": [
       "<Figure size 720x720 with 1 Axes>"
      ]
     },
     "metadata": {
      "needs_background": "light"
     },
     "output_type": "display_data"
    }
   ],
   "source": [
    "# Analysis on Address State\n",
    "\n",
    "g = loan[loan['loan_status']=='Charged Off'].groupby('addr_state')['loan_status'].count().reset_index()\n",
    "plt.figure(figsize=(10,10))\n",
    "sns.barplot(y='addr_state', x='loan_status', data=g)\n",
    "plt.xlabel('Count of loan status to be defaulter')\n",
    "plt.ylabel('State')\n",
    "plt.show()"
   ]
  },
  {
   "cell_type": "markdown",
   "id": "0a744a35",
   "metadata": {},
   "source": [
    "Applicantions with addr_state = CA seems to have high number of defaulters"
   ]
  },
  {
   "cell_type": "markdown",
   "id": "559e9ffb",
   "metadata": {},
   "source": [
    "#  Summary"
   ]
  },
  {
   "cell_type": "markdown",
   "id": "402475dc",
   "metadata": {},
   "source": [
    "**Univariate Analysis**\n",
    "\n",
    "1.Loan_Amount = majority of the loan amount ranges from 5k to 15k and maximum goes upto 35k\n",
    "\n",
    "2.Interest_rate = majority of loan have interest rate range from 9% - 15%. Maximum it goes upto 25%\n",
    "\n",
    "3.Annual_income = Most of applicants have income less than $80000 year\n",
    "\n",
    "4.Loan_Status = shows that around 14%(5000) of loans are Charged Off where applicant has not paid the instalments\n",
    "\n",
    "5.Employee work experience = Majority of employees applying for the loan have more than 10 years of experience\n",
    "\n",
    "**Segmented Univariate Analysis**\n",
    "\n",
    "1.home ownership = Most of the applicant's home ownership status is \"Mortgage\" or \"Rent\". This number is also high in Charged Off loans.\n",
    "\n",
    "2.Purpose = purpose of majority loans is debt consolidation. The number is also high on Charged Off loans.\n",
    "\n",
    "3.Verification Status = For most loans, income verification status is Not Verified. This number is also high on Charged Off loans.\n",
    "\n",
    "4.Term = Most of loans have 36 months term. This number is also high in Charged Off loans.\n",
    "\n",
    "**Bivariate Analysis**\n",
    "\n",
    "1.int_rate vs loan_status = As the interest rate increases the number of defaulters also increases\n",
    "\n",
    "2.annual_inc vs bankruptcies = Number of public record bankruptcies is high for applications having less than 60k\n",
    "\n",
    "3.purpose vs charged_off ratio = loan taken for Small Business purpose are likely to get Charged Off.\n",
    "\n",
    "4.address_state vs loan_status = Applicantions with addr_state = CA seems to have high number of defaulters"
   ]
  }
 ],
 "metadata": {
  "kernelspec": {
   "display_name": "Python 3",
   "language": "python",
   "name": "python3"
  },
  "language_info": {
   "codemirror_mode": {
    "name": "ipython",
    "version": 3
   },
   "file_extension": ".py",
   "mimetype": "text/x-python",
   "name": "python",
   "nbconvert_exporter": "python",
   "pygments_lexer": "ipython3",
   "version": "3.8.8"
  }
 },
 "nbformat": 4,
 "nbformat_minor": 5
}
